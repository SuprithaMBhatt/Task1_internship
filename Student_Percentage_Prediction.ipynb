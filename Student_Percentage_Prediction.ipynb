{
  "nbformat": 4,
  "nbformat_minor": 0,
  "metadata": {
    "colab": {
      "name": "Student_Percentage_Prediction.ipynb",
      "provenance": [],
      "toc_visible": true
    },
    "kernelspec": {
      "name": "python3",
      "display_name": "Python 3"
    }
  },
  "cells": [
    {
      "cell_type": "markdown",
      "metadata": {
        "id": "3b4303a2WBc_"
      },
      "source": [
        "##**Supritha M Bhatt - Task1**\r\n",
        "##The Sparks Foundation Task\r\n",
        "##*Student Percentage Prediction based on his score*"
      ]
    },
    {
      "cell_type": "markdown",
      "metadata": {
        "id": "ckKLWj_wHAPY"
      },
      "source": [
        "##**Importing Libraries**"
      ]
    },
    {
      "cell_type": "code",
      "metadata": {
        "id": "uwG2XUrLFsvV"
      },
      "source": [
        "import pandas as pd\r\n",
        "import numpy as np\r\n",
        "import matplotlib.pyplot as plt"
      ],
      "execution_count": 96,
      "outputs": []
    },
    {
      "cell_type": "markdown",
      "metadata": {
        "id": "vdAW79v0HHWm"
      },
      "source": [
        "##**Importing Dataset**"
      ]
    },
    {
      "cell_type": "code",
      "metadata": {
        "colab": {
          "base_uri": "https://localhost:8080/"
        },
        "id": "zTwRxC_BHL9z",
        "outputId": "4e89933e-0003-4ba9-85a6-c41cf0bb2357"
      },
      "source": [
        "dataset = pd.read_csv('http://bit.ly/w-data')\r\n",
        "x = dataset.iloc[:, :-1].values\r\n",
        "y = dataset.iloc[:, -1].values\r\n",
        "print(\"Successfully imported data\")"
      ],
      "execution_count": 97,
      "outputs": [
        {
          "output_type": "stream",
          "text": [
            "Successfully imported data\n"
          ],
          "name": "stdout"
        }
      ]
    },
    {
      "cell_type": "code",
      "metadata": {
        "colab": {
          "base_uri": "https://localhost:8080/",
          "height": 359
        },
        "id": "zXfJhKDGRWGw",
        "outputId": "f88037e7-c298-4c07-facc-11ddbcf123f9"
      },
      "source": [
        "dataset.head(10)"
      ],
      "execution_count": 98,
      "outputs": [
        {
          "output_type": "execute_result",
          "data": {
            "text/html": [
              "<div>\n",
              "<style scoped>\n",
              "    .dataframe tbody tr th:only-of-type {\n",
              "        vertical-align: middle;\n",
              "    }\n",
              "\n",
              "    .dataframe tbody tr th {\n",
              "        vertical-align: top;\n",
              "    }\n",
              "\n",
              "    .dataframe thead th {\n",
              "        text-align: right;\n",
              "    }\n",
              "</style>\n",
              "<table border=\"1\" class=\"dataframe\">\n",
              "  <thead>\n",
              "    <tr style=\"text-align: right;\">\n",
              "      <th></th>\n",
              "      <th>Hours</th>\n",
              "      <th>Scores</th>\n",
              "    </tr>\n",
              "  </thead>\n",
              "  <tbody>\n",
              "    <tr>\n",
              "      <th>0</th>\n",
              "      <td>2.5</td>\n",
              "      <td>21</td>\n",
              "    </tr>\n",
              "    <tr>\n",
              "      <th>1</th>\n",
              "      <td>5.1</td>\n",
              "      <td>47</td>\n",
              "    </tr>\n",
              "    <tr>\n",
              "      <th>2</th>\n",
              "      <td>3.2</td>\n",
              "      <td>27</td>\n",
              "    </tr>\n",
              "    <tr>\n",
              "      <th>3</th>\n",
              "      <td>8.5</td>\n",
              "      <td>75</td>\n",
              "    </tr>\n",
              "    <tr>\n",
              "      <th>4</th>\n",
              "      <td>3.5</td>\n",
              "      <td>30</td>\n",
              "    </tr>\n",
              "    <tr>\n",
              "      <th>5</th>\n",
              "      <td>1.5</td>\n",
              "      <td>20</td>\n",
              "    </tr>\n",
              "    <tr>\n",
              "      <th>6</th>\n",
              "      <td>9.2</td>\n",
              "      <td>88</td>\n",
              "    </tr>\n",
              "    <tr>\n",
              "      <th>7</th>\n",
              "      <td>5.5</td>\n",
              "      <td>60</td>\n",
              "    </tr>\n",
              "    <tr>\n",
              "      <th>8</th>\n",
              "      <td>8.3</td>\n",
              "      <td>81</td>\n",
              "    </tr>\n",
              "    <tr>\n",
              "      <th>9</th>\n",
              "      <td>2.7</td>\n",
              "      <td>25</td>\n",
              "    </tr>\n",
              "  </tbody>\n",
              "</table>\n",
              "</div>"
            ],
            "text/plain": [
              "   Hours  Scores\n",
              "0    2.5      21\n",
              "1    5.1      47\n",
              "2    3.2      27\n",
              "3    8.5      75\n",
              "4    3.5      30\n",
              "5    1.5      20\n",
              "6    9.2      88\n",
              "7    5.5      60\n",
              "8    8.3      81\n",
              "9    2.7      25"
            ]
          },
          "metadata": {
            "tags": []
          },
          "execution_count": 98
        }
      ]
    },
    {
      "cell_type": "markdown",
      "metadata": {
        "id": "1MqzmmdYHeJ8"
      },
      "source": [
        "##**Spliting the dataset into training set and test set**\r\n",
        "\r\n",
        "\r\n",
        "\r\n"
      ]
    },
    {
      "cell_type": "code",
      "metadata": {
        "id": "byvNjVWtH_I8"
      },
      "source": [
        "from sklearn.model_selection import train_test_split\r\n",
        "x_train , x_test , y_train, y_test = train_test_split(x, y, test_size=0.2, random_state = 0)"
      ],
      "execution_count": 99,
      "outputs": []
    },
    {
      "cell_type": "markdown",
      "metadata": {
        "id": "z61I-GX9Ji7x"
      },
      "source": [
        "##**Trianing the model using Liner Regression**"
      ]
    },
    {
      "cell_type": "code",
      "metadata": {
        "colab": {
          "base_uri": "https://localhost:8080/"
        },
        "id": "CBR7jQBbJnzC",
        "outputId": "aed25fef-e868-43e2-8d00-9e8ab83f4215"
      },
      "source": [
        "from sklearn.linear_model import  LinearRegression\r\n",
        "regr = LinearRegression()\r\n",
        "regr.fit(x_train, y_train)\r\n",
        "print(\"Training completed\")"
      ],
      "execution_count": 100,
      "outputs": [
        {
          "output_type": "stream",
          "text": [
            "Training completed\n"
          ],
          "name": "stdout"
        }
      ]
    },
    {
      "cell_type": "markdown",
      "metadata": {
        "id": "gJVtdOUtL7DE"
      },
      "source": [
        "##**Plotting the test set results** "
      ]
    },
    {
      "cell_type": "code",
      "metadata": {
        "colab": {
          "base_uri": "https://localhost:8080/",
          "height": 295
        },
        "id": "qLouZw4VMAyp",
        "outputId": "d8ae1eac-9022-4cf3-a69c-b3cdbd5a4d57"
      },
      "source": [
        "plt.scatter(x_train, y_train, color = 'green')\r\n",
        "plt.plot(x_train, regr.predict(x_train), color = 'blue')\r\n",
        "plt.title('Predicting Student Peercentage')\r\n",
        "plt.xlabel('Hours of Study')\r\n",
        "plt.ylabel('Score / Percentage')\r\n",
        "plt.show()"
      ],
      "execution_count": 101,
      "outputs": [
        {
          "output_type": "display_data",
          "data": {
            "image/png": "[encoded data removed]",
            "text/plain": [
              "<Figure size 432x288 with 1 Axes>"
            ]
          },
          "metadata": {
            "tags": [],
            "needs_background": "light"
          }
        }
      ]
    },
    {
      "cell_type": "markdown",
      "metadata": {
        "id": "UfalQz91MpAP"
      },
      "source": [
        "##**Plotting test set predictions**"
      ]
    },
    {
      "cell_type": "code",
      "metadata": {
        "colab": {
          "base_uri": "https://localhost:8080/",
          "height": 295
        },
        "id": "yZye4IjGMtiB",
        "outputId": "79067fc0-e5c1-4523-a323-6a524161822e"
      },
      "source": [
        "plt.scatter(x_test, y_test, color = 'green')\r\n",
        "plt.plot(x_train, regr.predict(x_train), color = 'blue')\r\n",
        "plt.title('Predicting Student Peercentage')\r\n",
        "plt.xlabel('Hours of Study')\r\n",
        "plt.ylabel('Score / Percentage')\r\n",
        "plt.show()"
      ],
      "execution_count": 102,
      "outputs": [
        {
          "output_type": "display_data",
          "data": {
            "image/png": "[encoded data removed]",
            "text/plain": [
              "<Figure size 432x288 with 1 Axes>"
            ]
          },
          "metadata": {
            "tags": [],
            "needs_background": "light"
          }
        }
      ]
    },
    {
      "cell_type": "markdown",
      "metadata": {
        "id": "KNA5uulSNWJM"
      },
      "source": [
        "##**Predicting results for single value**"
      ]
    },
    {
      "cell_type": "code",
      "metadata": {
        "colab": {
          "base_uri": "https://localhost:8080/"
        },
        "id": "04hIBMGcNacw",
        "outputId": "fdd27ffb-dc1f-48be-d70e-8d1adb2b2292"
      },
      "source": [
        "percentage = regr.predict([[9.25]])\r\n",
        "print(percentage)"
      ],
      "execution_count": 103,
      "outputs": [
        {
          "output_type": "stream",
          "text": [
            "[93.69173249]\n"
          ],
          "name": "stdout"
        }
      ]
    },
    {
      "cell_type": "markdown",
      "metadata": {
        "id": "NRYey58kR9e4"
      },
      "source": [
        "##**Training the model using support vector regression**"
      ]
    },
    {
      "cell_type": "markdown",
      "metadata": {
        "id": "tkwIVCvuSLr4"
      },
      "source": [
        "##Implementing feature scaling just to experiment"
      ]
    },
    {
      "cell_type": "code",
      "metadata": {
        "id": "2pjyqFuKSRJh"
      },
      "source": [
        "from sklearn.preprocessing import StandardScaler\r\n",
        "sc_X = StandardScaler()\r\n",
        "sc_y = StandardScaler()\r\n",
        "x_scaled = sc_X.fit_transform(x)\r\n",
        "y = y.reshape(len(y),1) ##this is done because y becomes a single array but  fit_transform expects a 2d array\r\n",
        "y_scaled = sc_y.fit_transform(y)"
      ],
      "execution_count": 104,
      "outputs": []
    },
    {
      "cell_type": "markdown",
      "metadata": {
        "id": "zFPBH-M5Shcg"
      },
      "source": [
        "##Training the SVR model on the whole dataset"
      ]
    },
    {
      "cell_type": "code",
      "metadata": {
        "colab": {
          "base_uri": "https://localhost:8080/"
        },
        "id": "wRxlIkHOSjkN",
        "outputId": "40141cfa-a856-4b63-9de2-d85af1adb00c"
      },
      "source": [
        "from sklearn.svm import SVR\r\n",
        "regreessor = SVR()\r\n",
        "regreessor.fit(x_scaled, y_scaled)\r\n",
        "##regreessor.fit(x,y)"
      ],
      "execution_count": 105,
      "outputs": [
        {
          "output_type": "stream",
          "text": [
            "/usr/local/lib/python3.7/dist-packages/sklearn/utils/validation.py:760: DataConversionWarning: A column-vector y was passed when a 1d array was expected. Please change the shape of y to (n_samples, ), for example using ravel().\n",
            "  y = column_or_1d(y, warn=True)\n"
          ],
          "name": "stderr"
        },
        {
          "output_type": "execute_result",
          "data": {
            "text/plain": [
              "SVR(C=1.0, cache_size=200, coef0=0.0, degree=3, epsilon=0.1, gamma='scale',\n",
              "    kernel='rbf', max_iter=-1, shrinking=True, tol=0.001, verbose=False)"
            ]
          },
          "metadata": {
            "tags": []
          },
          "execution_count": 105
        }
      ]
    },
    {
      "cell_type": "markdown",
      "metadata": {
        "id": "FwoaOzFgTvw2"
      },
      "source": [
        "##Predicting result for single value"
      ]
    },
    {
      "cell_type": "code",
      "metadata": {
        "colab": {
          "base_uri": "https://localhost:8080/"
        },
        "id": "1RukMUY8Tz0y",
        "outputId": "83b7de7c-5fc0-4b43-8513-079b6ec4efb2"
      },
      "source": [
        "sc_y.inverse_transform(regreessor.predict(sc_X.transform([[9.25]])))"
      ],
      "execution_count": 106,
      "outputs": [
        {
          "output_type": "execute_result",
          "data": {
            "text/plain": [
              "array([84.041146])"
            ]
          },
          "metadata": {
            "tags": []
          },
          "execution_count": 106
        }
      ]
    },
    {
      "cell_type": "markdown",
      "metadata": {
        "id": "727OE16zXorN"
      },
      "source": [
        "From the results we can say that Linear Regression works better than Support Vector Regression in this case !!.\r\n",
        "Thank you. :)"
      ]
    }
  ]
}